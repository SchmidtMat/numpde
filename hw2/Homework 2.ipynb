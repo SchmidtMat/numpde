{
 "cells": [
  {
   "cell_type": "markdown",
   "metadata": {},
   "source": [
    "# Homework 2: Due 2018-09-30 Mathias Schmidt"
   ]
  },
  {
   "cell_type": "markdown",
   "metadata": {},
   "source": [
    "Use a Chebyshev method to solve the second order ordinary differential equation\n",
    "\n",
    "\\begin{equation*}\n",
    "u^{''}(t)+au^{'}(t)+bu(t) = f(t)\n",
    "\\end{equation*}\n",
    "\n",
    "from $t=0$ to $t=1$ with initial conditions $u(0)=1$ and $u^{'}=0$.\n",
    "\n",
    "$1.$ Do a grid convergence study to test the accuracy of your method. <br>\n",
    "$2.$ Setting $f(t)=0$, experiment with the values $a$ and $b$ to identify two regimes with qualitatively different dynamics."
   ]
  },
  {
   "cell_type": "code",
   "execution_count": 3,
   "metadata": {},
   "outputs": [],
   "source": [
    "%matplotlib inline\n",
    "import numpy\n",
    "from matplotlib import pyplot\n",
    "pyplot.style.use('ggplot')\n",
    "\n",
    "\n",
    "def vander_chebyshev(x, n=None):\n",
    "    if n is None:\n",
    "        n = len(x)\n",
    "    T = numpy.ones((len(x), n))\n",
    "    if n > 1:\n",
    "        T[:,1] = x\n",
    "    for k in range(2,n):\n",
    "        T[:,k] = 2 * x * T[:,k-1] - T[:,k-2]\n",
    "    return T"
   ]
  },
  {
   "cell_type": "code",
   "execution_count": null,
   "metadata": {},
   "outputs": [],
   "source": []
  },
  {
   "cell_type": "code",
   "execution_count": 4,
   "metadata": {},
   "outputs": [
    {
     "name": "stdout",
     "output_type": "stream",
     "text": [
      "cond = 2.739107e+10\n"
     ]
    },
    {
     "data": {
      "image/png": "[encoded data removed]",
      "text/plain": [
       "<Figure size 432x288 with 1 Axes>"
      ]
     },
     "metadata": {},
     "output_type": "display_data"
    }
   ],
   "source": [
    "def chebeval(z, n=None):\n",
    "    \"\"\"Build matrices to evaluate the n-term Chebyshev expansion and its derivatives at point(s) z\"\"\"\n",
    "    z = numpy.array(z, ndmin=1)\n",
    "    if n is None:\n",
    "        n = len(z)\n",
    "    Tz = vander_chebyshev(z, n)\n",
    "    dTz = numpy.zeros_like(Tz)\n",
    "    dTz[:,1] = 1\n",
    "    dTz[:,2] = 4*z\n",
    "    ddTz = numpy.zeros_like(Tz)\n",
    "    ddTz[:,2] = 4\n",
    "    for n in range(3,n):\n",
    "        dTz[:,n]  = n * (2*Tz[:,n-1] + dTz[:,n-2]/(n-2))\n",
    "        ddTz[:,n] = n * (2*dTz[:,n-1] + ddTz[:,n-2]/(n-2))\n",
    "    return [Tz, dTz, ddTz]\n",
    "\n",
    "n = 44\n",
    "x = numpy.linspace(-1, 1, n)\n",
    "T = vander_chebyshev(x)\n",
    "print('cond = {:e}'.format(numpy.linalg.cond(T)))\n",
    "Tinv = numpy.linalg.inv(T)\n",
    "L = numpy.zeros((n,n))\n",
    "for i in range(n):\n",
    "    L[i] = chebeval(x[i], n)[2].dot(Tinv)\n",
    "\n",
    "u = numpy.cos(3*x)\n",
    "pyplot.plot(x, L.dot(u), 'o')\n",
    "xx = numpy.linspace(-1, 1, 100)\n",
    "pyplot.plot(xx, -9*numpy.cos(3*xx));"
   ]
  },
  {
   "cell_type": "code",
   "execution_count": null,
   "metadata": {},
   "outputs": [],
   "source": []
  },
  {
   "cell_type": "code",
   "execution_count": null,
   "metadata": {},
   "outputs": [],
   "source": []
  }
 ],
 "metadata": {
  "kernelspec": {
   "display_name": "Python 3",
   "language": "python",
   "name": "python3"
  },
  "language_info": {
   "codemirror_mode": {
    "name": "ipython",
    "version": 3
   },
   "file_extension": ".py",
   "mimetype": "text/x-python",
   "name": "python",
   "nbconvert_exporter": "python",
   "pygments_lexer": "ipython3",
   "version": "3.6.5"
  }
 },
 "nbformat": 4,
 "nbformat_minor": 2
}
