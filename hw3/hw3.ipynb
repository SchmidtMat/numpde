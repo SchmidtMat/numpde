{
 "cells": [
  {
   "cell_type": "markdown",
   "metadata": {},
   "source": [
    "# Homework 3: Mathias Schmidt"
   ]
  },
  {
   "cell_type": "markdown",
   "metadata": {},
   "source": [
    "Write a solver for the regularized $p$-Laplacian,\n",
    "$$ -\\nabla\\cdot\\big( \\kappa(\\nabla u) \\nabla u \\big) = 0 $$\n",
    "where\n",
    "$$ \\kappa(\\nabla u) = \\big(\\frac 1 2 \\epsilon^2 + \\frac 1 2 \\nabla u \\cdot \\nabla u \\big)^{\\frac{p-2}{2}}, $$\n",
    "$ \\epsilon > 0$, and $1 < p < \\infty$.  The case $p=2$ is the conventional Laplacian. This problem gets more strongly\n",
    "nonlinear when $p$ is far from 2 and when $\\epsilon$ approaches zero. The $p \\to 1$ limit is related to plasticity and has \n",
    "applications in non-Newtonion flows and structural mechanics."
   ]
  },
  {
   "cell_type": "markdown",
   "metadata": {},
   "source": [
    "1. Implement a \"Picard\" solver, which is like a Newton solver except that the Jacobian is replaced by the linear system\n",
    "$$ J_{\\text{Picard}}(u) \\delta u \\sim -\\nabla\\cdot\\big( \\kappa(\\nabla u) \\nabla \\delta u \\big) . $$\n",
    "This is much easier to implement than the full Newton linearization.  How fast does this method converge for values of $p < 2$ and $p > 2$?"
   ]
  },
  {
   "cell_type": "code",
   "execution_count": 15,
   "metadata": {},
   "outputs": [],
   "source": [
    "%matplotlib inline\n",
    "import numpy\n",
    "from matplotlib import pyplot\n",
    "pyplot.style.use('ggplot')\n",
    "import scipy.sparse as sp\n",
    "import scipy.sparse.linalg as splinalg\n",
    "from scipy.linalg import solve_banded"
   ]
  },
  {
   "cell_type": "code",
   "execution_count": 16,
   "metadata": {},
   "outputs": [],
   "source": [
    "def hgrid(h):\n",
    "    m = int(1/h + 1)  # Number of elements in terms of nominal grid spacing h\n",
    "    h = 1 / (m-1)     # Actual grid spacing\n",
    "    c = numpy.linspace(0, 1, m)\n",
    "    y, x = numpy.meshgrid(c, c)\n",
    "    return x, y"
   ]
  },
  {
   "cell_type": "code",
   "execution_count": 26,
   "metadata": {},
   "outputs": [],
   "source": [
    "def nonlinear2d_div(h, x, y, u,  p, eps, forcing, g0, dirichlet=((),())):\n",
    "                  \n",
    "    m = x.shape[0]\n",
    "    u0 = g0(x, y).flatten()\n",
    "    F = -forcing(x, y).flatten()\n",
    "    ai = []\n",
    "    aj = []\n",
    "    av = []\n",
    "    def idx(i, j):\n",
    "        i = (m-1) - abs(m-1 - abs(i))\n",
    "        j = (m-1) - abs(m-1 - abs(j))\n",
    "        return i*m + j\n",
    "    mask = numpy.ones_like(x, dtype=bool)\n",
    "    mask[dirichlet[0],:] = False\n",
    "    mask[:,dirichlet[1]] = False\n",
    "    mask = mask.flatten()\n",
    "    u = u.flatten()\n",
    "    F[mask == False] = u[mask == False] - u0[mask == False]\n",
    "    u[mask == False] = u0[mask == False]\n",
    "    \n",
    "    for i in range(m):\n",
    "        for j in range(m):\n",
    "            row = idx(i, j)\n",
    "            stencili = numpy.array([idx(*pair) for pair in [(i-1,j-1),(i-1,j), (i-1,j+1), (i,j-1),\n",
    "                                                            (i,j),(i,j+1),(i+1,j-1), (i+1,j), (i+1,j+1)]])\n",
    "            \n",
    "            grad = numpy.array([ [0    ,-1   ,0    ,0    ,1    ,0   ,0    ,0   ,0  ],\n",
    "                                 [0    ,0    ,0    ,-1   ,1    ,0   ,0    ,0   ,0  ],\n",
    "                                 [0    ,0    ,0    ,0    ,-1   ,1   ,0    ,0   ,0  ],\n",
    "                                 [0    ,0    ,0    ,0    ,-1   ,0   ,0    ,1   ,0  ],\n",
    "                                 [-1/4 ,-1/4 ,0    ,0    ,0    ,0   ,1/4  ,1/4 ,0  ],\n",
    "                                 [0    ,-1/4 ,-1/4 ,0    ,0    ,0   ,0    ,1/4 ,1/4],\n",
    "                                 [-1/4 ,0    ,1/4  ,1/4  ,0    ,1/4 ,0    ,0   ,0  ],\n",
    "                                 [0    ,0    ,0    ,-1/4 ,0    ,1/4 ,-1/ 4,0   ,1/4]]) / h\n",
    "                        \n",
    "             # Stencil to compute divergence at cell centers from fluxes at four staggered points\n",
    "            div = numpy.array([-1, -1, 1, 1]) / h\n",
    "            ustencil = u[stencili]\n",
    "\n",
    "            grad_x = grad[[0, 4, 3, 5],:] @ ustencil\n",
    "            grad_y = grad[[6, 1, 7, 2],:] @ ustencil\n",
    "            grad_normal = grad[0:4,:] #@ ustencil\n",
    "            \n",
    "            kappa = (1/2*eps**2+1/2*(grad_x**2+grad_y**2)**2)**((p-2)/2)\n",
    "            \n",
    "            if mask[row] == 0: # Dirichlet boundary\n",
    "                ai.append(row)\n",
    "                aj.append(row)\n",
    "                av.append(1)\n",
    "            else:\n",
    "                F[row] -= div @ (kappa[:,None] * grad_normal @ ustencil)\n",
    "                Jstencil = -div @ (kappa[:,None] * grad_normal)                \n",
    "                smask = mask[stencili]\n",
    "                ai += [row]*sum(smask)\n",
    "                aj += stencili[smask].tolist()\n",
    "                av += Jstencil[smask].tolist()\n",
    "    J = sp.csc_matrix((av, (ai, aj)), shape=(m*m,m*m)) # gmres warnin if the matrix is not csc\n",
    "    return F, J"
   ]
  },
  {
   "cell_type": "code",
   "execution_count": 79,
   "metadata": {},
   "outputs": [
    {
     "name": "stdout",
     "output_type": "stream",
     "text": [
      " 0: anorm 1.000000e+00\n",
      " 1: anorm 8.659740e-15\n"
     ]
    },
    {
     "data": {
      "image/png": "[encoded data removed]",
      "text/plain": [
       "<Figure size 432x288 with 2 Axes>"
      ]
     },
     "metadata": {},
     "output_type": "display_data"
    }
   ],
   "source": [
    "def solve_nonlinear(h, g0, dirichlet,  p , eps, atol=1e-8, verbose=False):\n",
    "    x, y = hgrid(h)\n",
    "    u = 0*x\n",
    "    for i in range(50):\n",
    "        F, J = nonlinear2d_div(h, x, y, u, p, eps, lambda x,y: 0*x+1, g0=g0, dirichlet=((0,-1),(0,-1)) )\n",
    "        anorm = numpy.linalg.norm(F, numpy.inf)\n",
    "        if verbose:\n",
    "            print('{:2d}: anorm {:8e}'.format(i,anorm))\n",
    "        if anorm < atol:\n",
    "            break\n",
    "        deltau = sp.linalg.spsolve(J, F)\n",
    "        u -= deltau.reshape(x.shape)\n",
    "    return x, y, u, i\n",
    "\n",
    "x, y, u, i = solve_nonlinear(.1, lambda x,y: 0*x, dirichlet=((0,-1),(0,-1)), verbose=True, p=2, eps=2)\n",
    "\n",
    "pyplot.contourf(x, y, u)\n",
    "pyplot.colorbar();"
   ]
  },
  {
   "cell_type": "code",
   "execution_count": 98,
   "metadata": {},
   "outputs": [
    {
     "data": {
      "text/plain": [
       "Text(0,0.5,'iterations needed')"
      ]
     },
     "execution_count": 98,
     "metadata": {},
     "output_type": "execute_result"
    },
    {
     "data": {
      "image/png": "[encoded data removed]",
      "text/plain": [
       "<Figure size 432x288 with 1 Axes>"
      ]
     },
     "metadata": {},
     "output_type": "display_data"
    }
   ],
   "source": [
    "pval = numpy.linspace( -1, 3, 40 ) \n",
    "iter = [] \n",
    "for p in pval:\n",
    "    x, y, u, i = solve_nonlinear( 0.1, lambda x,y: 0*x, dirichlet=((0,-1),(0,-1)),verbose=False, p=p, eps=0.1 )\n",
    "    iter.append(i)\n",
    "pyplot.plot( pval, iter )\n",
    "pyplot.title(\"Newton itarations over p in [-1,3] for an epsilon = 0.1\")\n",
    "pyplot.xlabel( 'p' )\n",
    "pyplot.ylabel( 'iterations needed' )"
   ]
  },
  {
   "cell_type": "code",
   "execution_count": 105,
   "metadata": {},
   "outputs": [
    {
     "data": {
      "text/plain": [
       "Text(0,0.5,'iterations needed')"
      ]
     },
     "execution_count": 105,
     "metadata": {},
     "output_type": "execute_result"
    },
    {
     "data": {
      "image/png": "[encoded data removed]",
      "text/plain": [
       "<Figure size 432x288 with 1 Axes>"
      ]
     },
     "metadata": {},
     "output_type": "display_data"
    }
   ],
   "source": [
    "pval = numpy.linspace( -1, 3, 40 ) \n",
    "iter = [] \n",
    "for p in pval:\n",
    "    x, y, u, i = solve_nonlinear( 0.1, lambda x,y: 0*x, dirichlet=((0,-1),(0,-1)),verbose=False, p=p, eps=1 )\n",
    "    iter.append(i)\n",
    "pyplot.plot( pval, iter )\n",
    "pyplot.title(\"Newton itarations over p in [-1,3] for an epsilon = 1\")\n",
    "pyplot.xlabel( 'p' )\n",
    "pyplot.ylabel( 'iterations needed' )"
   ]
  },
  {
   "cell_type": "markdown",
   "metadata": {},
   "source": [
    "Choosing a p of two we need a minimum of iterations. When we increase p the number of iterations we need to solve this nonlinear problem increases drasically."
   ]
  },
  {
   "cell_type": "markdown",
   "metadata": {},
   "source": [
    "2. Use the linearization above as a preconditioner to a Newton-Krylov method.  That is, use [`scipy.sparse.linalg.LinearOperator`](https://docs.scipy.org/doc/scipy-0.19.1/reference/generated/scipy.sparse.linalg.LinearOperator.html) to apply the Jacobian to a vector\n",
    "$$ \\tilde J(u) v = \\frac{F(u + h v) - F(u)}{h} . $$\n",
    "Then for each linear solve, use [`scipy.sparse.linalg.gmres`](https://docs.scipy.org/doc/scipy-0.19.1/reference/generated/scipy.sparse.linalg.gmres.html) and pass as a preconditioner, a direct solve with the Picard linearization above. (You might find [`scipy.sparse.linalg.factorized`](https://docs.scipy.org/doc/scipy-0.19.1/reference/generated/scipy.sparse.linalg.factorized.html#scipy.sparse.linalg.factorized) to be useful. Compare algebraic convergence to that of the Picard method."
   ]
  },
  {
   "cell_type": "code",
   "execution_count": 161,
   "metadata": {},
   "outputs": [],
   "source": [
    "def fsolve_newtonkrylov( h, x, y, p, eps, u0, epsilon=1e-8, rtol=1e-6, maxit=50, verbose=False ):\n",
    "    u = u0.copy()\n",
    "    Fu, J = nonlinear2d_div(h, x, y, u, p, eps, lambda x,y: 0*x+1, lambda x,y: 0*x, dirichlet=((0,-1),(0,-1)) )\n",
    "    norm0 = numpy.linalg.norm( Fu )\n",
    "    for i in range( maxit ):\n",
    "        def Ju_fd(v):\n",
    "            Fuepsilon, Jueps = nonlinear2d_div(h, x, y, (u+epsilon*v).reshape(x.shape), p, eps,\n",
    "                                               lambda x,y: 0*x+1, lambda x,y: 0*x, dirichlet=((0,-1),(0,-1)) )\n",
    "            return ( Fuepsilon - Fu )/ epsilon\n",
    "        Jprecond = splinalg.factorized(J)\n",
    "        Jpreop = splinalg.LinearOperator((len(Fu),len(u)), matvec=Jprecond)\n",
    "        Ju = splinalg.LinearOperator((len(Fu),len(u)), matvec=Ju_fd)\n",
    "        du, info = splinalg.gmres(Ju, Fu, atol=1e-06, M=Jpreop)\n",
    "        #du, info = splinalg.gmres(Ju, Fu, atol=1e-06)\n",
    "        if info != 0:\n",
    "            print(numpy.linalg.norm(Ju @ du - Fu), norm)\n",
    "            raise RuntimeError('GMRES failed to converge: {:d}'.format(info))\n",
    "        u -= du\n",
    "        Fu, _ = nonlinear2d_div(h, x, y, u, p, eps, lambda x,y: 0*x+1, lambda x,y: 0*x, dirichlet=((0,-1),(0,-1)) )\n",
    "        norm = numpy.linalg.norm(Fu)\n",
    "        if verbose:\n",
    "            print('Newton {:d} anorm {:6.2e} rnorm {:6.2e}'\n",
    "                  .format(i, norm, norm/norm0))\n",
    "        if norm < rtol * norm0:\n",
    "            break\n",
    "    return u, i  "
   ]
  },
  {
   "cell_type": "code",
   "execution_count": 169,
   "metadata": {},
   "outputs": [
    {
     "name": "stdout",
     "output_type": "stream",
     "text": [
      "Newton 0 anorm 1.74e-02 rnorm 4.34e-03\n",
      "Newton 1 anorm 3.25e-06 rnorm 8.12e-07\n",
      "Newton 2 anorm 3.07e-09 rnorm 7.66e-10\n"
     ]
    },
    {
     "data": {
      "text/plain": [
       "(array([0.        , 0.        , 0.        , 0.        , 0.        ,\n",
       "        0.        , 0.        , 0.04695991, 0.06567725, 0.06569432,\n",
       "        0.04700263, 0.        , 0.        , 0.06572917, 0.09399821,\n",
       "        0.09403425, 0.06583533, 0.        , 0.        , 0.06575525,\n",
       "        0.09406039, 0.09407807, 0.06582977, 0.        , 0.        ,\n",
       "        0.04702142, 0.0658497 , 0.06583483, 0.04701892, 0.        ,\n",
       "        0.        , 0.        , 0.        , 0.        , 0.        ,\n",
       "        0.        ]), 2)"
      ]
     },
     "execution_count": 169,
     "metadata": {},
     "output_type": "execute_result"
    }
   ],
   "source": [
    "h    = 0.2\n",
    "eps  = 1\n",
    "p    = 3\n",
    "x,y  = hgrid(h) \n",
    "u = 0*x.flatten()\n",
    "fsolve_newtonkrylov( h, x, y, p, eps, u, rtol=1e-8, verbose=True )"
   ]
  },
  {
   "cell_type": "code",
   "execution_count": 170,
   "metadata": {},
   "outputs": [
    {
     "name": "stdout",
     "output_type": "stream",
     "text": [
      "Newton 0 anorm 2.04e-04 rnorm 5.11e-05\n",
      "Newton 1 anorm 1.21e-08 rnorm 3.03e-09\n",
      "Newton 0 anorm 2.57e-04 rnorm 6.44e-05\n",
      "Newton 1 anorm 1.92e-08 rnorm 4.80e-09\n",
      "Newton 0 anorm 3.22e-04 rnorm 8.06e-05\n",
      "Newton 1 anorm 3.01e-08 rnorm 7.53e-09\n",
      "Newton 0 anorm 4.00e-04 rnorm 1.00e-04\n",
      "Newton 1 anorm 4.65e-08 rnorm 1.16e-08\n",
      "Newton 0 anorm 4.93e-04 rnorm 1.23e-04\n",
      "Newton 1 anorm 7.05e-08 rnorm 1.76e-08\n",
      "Newton 0 anorm 6.00e-04 rnorm 1.50e-04\n",
      "Newton 1 anorm 1.04e-07 rnorm 2.61e-08\n",
      "Newton 0 anorm 7.20e-04 rnorm 1.80e-04\n",
      "Newton 1 anorm 1.51e-07 rnorm 3.77e-08\n",
      "Newton 0 anorm 8.50e-04 rnorm 2.12e-04\n",
      "Newton 1 anorm 2.10e-07 rnorm 5.24e-08\n",
      "Newton 0 anorm 9.78e-04 rnorm 2.45e-04\n",
      "Newton 1 anorm 2.78e-07 rnorm 6.95e-08\n",
      "Newton 0 anorm 1.09e-03 rnorm 2.72e-04\n",
      "Newton 1 anorm 3.44e-07 rnorm 8.61e-08\n"
     ]
    },
    {
     "data": {
      "text/plain": [
       "Text(0.5,1,'Comparison Picard and Newton-Krylov')"
      ]
     },
     "execution_count": 170,
     "metadata": {},
     "output_type": "execute_result"
    },
    {
     "data": {
      "image/png": "[encoded data removed]",
      "text/plain": [
       "<Figure size 432x288 with 1 Axes>"
      ]
     },
     "metadata": {},
     "output_type": "display_data"
    }
   ],
   "source": [
    "pval = numpy.linspace( -1, 1, 10 ) \n",
    "iter_old = [] \n",
    "iter_new = []\n",
    "for p in pval:\n",
    "    _,i = fsolve_newtonkrylov( h, x, y, p, eps, u, rtol=1e-6, verbose=True )\n",
    "    iter_new.append( i )\n",
    "    _, _, _, i = solve_nonlinear( 0.1, lambda x,y: 0*x, dirichlet=((0,-1),(0,-1)),verbose=False, p=p, eps=0.1 )\n",
    "    iter_old.append(i)\n",
    "pyplot.plot(pval, iter_old, 'o', label='Picard')\n",
    "pyplot.plot(pval, iter_new,  label='Newton-Krylov')\n",
    "pyplot.xlabel('p')\n",
    "pyplot.ylabel('iterations')\n",
    "pyplot.title('Comparison Picard and Newton-Krylov')"
   ]
  },
  {
   "cell_type": "markdown",
   "metadata": {},
   "source": [
    "Blue line are the iterations with a finite difference jacobian, the red dots are the picard iterations.\n",
    "We can observe that we need more picard iterations to solve this problem. However, looking at the code, \n",
    "the picard algorithmus seems to be less costly."
   ]
  },
  {
   "cell_type": "markdown",
   "metadata": {},
   "source": [
    "3. Can you directly implement a Newton linearization?  Either do it or explain what is involved. \n",
    "How will its nonlinear convergence compare to that of the Newton-Krylov method?\n"
   ]
  },
  {
   "cell_type": "markdown",
   "metadata": {},
   "source": [
    "In order to implement a full newton method we also have to differentiate $\\kappa$ with respect to u in order to compute the correct full jacobian. Differentiating $\\kappa$ leads to  <br>\n",
    "$\\kappa '(u)= (\\frac {p-2}{2})(0.5e^2+0.5\\nabla u \\cdot \\nabla u)(\\nabla u)$ <br>\n",
    "\n",
    "Using this kappa in the fill jacobian leads to the following Jacobian <br>\n",
    "\n",
    "$J(u) = - \\nabla \\cdot (\\kappa(\\nabla u)+ \\nabla u (\\kappa '(\\nabla u)))$ <br>\n",
    "\n",
    "we can propably use our stencil to compute this and thus, use a full newton algorithm. A newton algorithm has the best convergence. It is quadratic.\n"
   ]
  },
  {
   "cell_type": "code",
   "execution_count": 28,
   "metadata": {},
   "outputs": [],
   "source": []
  },
  {
   "cell_type": "code",
   "execution_count": null,
   "metadata": {},
   "outputs": [],
   "source": []
  }
 ],
 "metadata": {
  "kernelspec": {
   "display_name": "Python 3",
   "language": "python",
   "name": "python3"
  },
  "language_info": {
   "codemirror_mode": {
    "name": "ipython",
    "version": 3
   },
   "file_extension": ".py",
   "mimetype": "text/x-python",
   "name": "python",
   "nbconvert_exporter": "python",
   "pygments_lexer": "ipython3",
   "version": "3.6.5"
  }
 },
 "nbformat": 4,
 "nbformat_minor": 2
}
